{
 "cells": [
  {
   "cell_type": "code",
   "execution_count": 7,
   "id": "07126530",
   "metadata": {},
   "outputs": [],
   "source": [
    "import csv \n",
    "import json\n",
    "\n"
   ]
  },
  {
   "cell_type": "code",
   "execution_count": 8,
   "id": "8f251ebf",
   "metadata": {},
   "outputs": [],
   "source": [
    "features = ['datetime', 'clouds', 'pres', 'snow', 'temp', 'solar_rad', 'wind_spd']\n",
    "nodate_features = [ 'clouds', 'pres', 'snow', 'temp', 'wind_spd']\n",
    "city_aiports = {'syracuse': 'SYR', 'chicago': 'ORD', 'denver': 'DEN', 'newark':'EWR', 'washington': 'IAD'}\n",
    "\n",
    "aiports_city = { 'SYR':'syracuse',  'ORD': 'chicago',  'DEN': 'denver', 'EWR':'newark','IAD': 'washington'}\n",
    "\n",
    "\n",
    "def read_files(filename, rows={}):\n",
    "    readfile = open(filename,\"r\")\n",
    "    data = json.loads(readfile.read())\n",
    "    data = data[\"data\"]\n",
    "    for datapoint in data :\n",
    "        row = dict()\n",
    "        for feature in nodate_features :\n",
    "            row[feature] = datapoint[feature]\n",
    "        if len(row) > 0:\n",
    "            rows[datapoint['datetime']] = row\n",
    "    readfile.close()\n",
    "    print(len(rows))\n",
    "    return rows"
   ]
  },
  {
   "cell_type": "code",
   "execution_count": 9,
   "id": "35951389",
   "metadata": {},
   "outputs": [],
   "source": [
    "#readfile = open(\"chicago-1.json\",\"r\")\n",
    "#data = json.loads(readfile.read())\n",
    "#data = data[\"data\"]"
   ]
  },
  {
   "cell_type": "code",
   "execution_count": 10,
   "id": "11d188cb",
   "metadata": {},
   "outputs": [],
   "source": [
    "#print(data[0].keys())\n"
   ]
  },
  {
   "cell_type": "code",
   "execution_count": 11,
   "id": "e6613530",
   "metadata": {},
   "outputs": [
    {
     "data": {
      "text/plain": [
       "' \\nfor datapoint in data :\\n    row = list()\\n    for feature in features :\\n        row.append(datapoint[feature])\\n    if len(row) > 0:\\n        rows.append(row)\\n\\nprint(len(rows))\\n'"
      ]
     },
     "execution_count": 11,
     "metadata": {},
     "output_type": "execute_result"
    }
   ],
   "source": [
    "#features = ['datetime', 'clouds', 'pres', 'snow', 'temp', 'solar_rad', 'wind_spd']\n",
    "#rows = []\n",
    "\n",
    "''' \n",
    "for datapoint in data :\n",
    "    row = list()\n",
    "    for feature in features :\n",
    "        row.append(datapoint[feature])\n",
    "    if len(row) > 0:\n",
    "        rows.append(row)\n",
    "\n",
    "print(len(rows))\n",
    "'''\n"
   ]
  },
  {
   "cell_type": "code",
   "execution_count": 12,
   "id": "50b47814",
   "metadata": {},
   "outputs": [
    {
     "name": "stdout",
     "output_type": "stream",
     "text": [
      "16\n",
      "syracuse\n",
      "16\n",
      "chicago\n",
      "16\n",
      "denver\n",
      "16\n",
      "newark\n",
      "16\n",
      "washington\n"
     ]
    }
   ],
   "source": [
    "\n",
    "def getcitydata(city) :\n",
    "    files = [ city + \"-\" + str(x) + \".json\" for x in range(1)]\n",
    "    rows = {}\n",
    "    for file in files :\n",
    "        rows = read_files(file,rows)\n",
    "    return rows        \n",
    "\n",
    "cities = ['syracuse', 'chicago', 'denver', 'newark', 'washington']\n",
    "finaljson = {}\n",
    "for city in cities :\n",
    "    citydata = getcitydata(city)\n",
    "    finaljson[city_aiports[city]] = citydata\n",
    "    print(city)\n",
    "    \n",
    "    \n",
    "\n",
    "dest = \"weatherdata.json\"\n",
    "with open(dest, 'w', newline='') as file:\n",
    "    file.write(json.dumps(finaljson,indent=2))\n",
    "    \n",
    "\n"
   ]
  },
  {
   "cell_type": "code",
   "execution_count": null,
   "id": "d9538b68",
   "metadata": {},
   "outputs": [],
   "source": []
  }
 ],
 "metadata": {
  "kernelspec": {
   "display_name": "Python 3 (ipykernel)",
   "language": "python",
   "name": "python3"
  },
  "language_info": {
   "codemirror_mode": {
    "name": "ipython",
    "version": 3
   },
   "file_extension": ".py",
   "mimetype": "text/x-python",
   "name": "python",
   "nbconvert_exporter": "python",
   "pygments_lexer": "ipython3",
   "version": "3.9.6"
  }
 },
 "nbformat": 4,
 "nbformat_minor": 5
}
