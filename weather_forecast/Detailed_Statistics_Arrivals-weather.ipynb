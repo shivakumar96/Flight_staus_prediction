{
 "cells": [
  {
   "cell_type": "code",
   "execution_count": 57,
   "id": "be698486",
   "metadata": {},
   "outputs": [],
   "source": [
    "import csv \n",
    "import json\n",
    "import datetime"
   ]
  },
  {
   "cell_type": "code",
   "execution_count": 58,
   "id": "e6800eda",
   "metadata": {},
   "outputs": [],
   "source": [
    "flightfile  = \"predict_Arrivals2.csv\"\n",
    "weatherfile = \"weatherdata.json\"\n",
    "\n",
    "wfile = open(\"weatherdata.json\", \"r\")\n",
    "weatherdata = json.loads(wfile.read())\n",
    "wfile.close()\n"
   ]
  },
  {
   "cell_type": "code",
   "execution_count": 59,
   "id": "9bc78d1e",
   "metadata": {},
   "outputs": [
    {
     "name": "stdout",
     "output_type": "stream",
     "text": [
      "['Date', 'Day', 'Origin Airport', 'Flight Number', 'Arrival Time', 'Scheduled Elapsed Time (Minutes)']\n"
     ]
    }
   ],
   "source": [
    "ffile = open(\"project_csv_Apr_21_24_.csv\",\"r\")\n",
    "csvreader = csv.reader(ffile)\n",
    "header = next(csvreader)\n",
    "print(header)"
   ]
  },
  {
   "cell_type": "code",
   "execution_count": 60,
   "id": "18a5b5e3",
   "metadata": {},
   "outputs": [
    {
     "name": "stdout",
     "output_type": "stream",
     "text": [
      "['Date', 'Day', 'Origin Airport', 'Flight Number', 'Arrival Time', 'Scheduled Elapsed Time (Minutes)', 'month', 'org_clouds', 'org_pres', 'org_snow', 'org_temp', 'org_wind_spd', 'dest_clouds', 'dest_pres', 'dest_snow', 'dest_temp', 'dest_wind_spd']\n"
     ]
    }
   ],
   "source": [
    "wheader = [ 'clouds', 'pres', 'snow', 'temp', 'wind_spd']\n",
    "org_wheader = [ \"org_\" + x for x in  wheader]\n",
    "dest_wheader  = [ \"dest_\" + x for x in  wheader]\n",
    "\n",
    "final_header = list(header)\n",
    "final_header.append(\"month\")\n",
    "final_header.extend(org_wheader)\n",
    "final_header.extend(dest_wheader)\n",
    "\n",
    "final_rows = list()\n",
    "\n",
    "print(final_header)\n"
   ]
  },
  {
   "cell_type": "code",
   "execution_count": 61,
   "id": "39eaa2c4",
   "metadata": {},
   "outputs": [],
   "source": [
    "weather_features = [ 'clouds', 'pres', 'snow', 'temp', 'wind_spd']\n",
    "def get_weather(city,date):\n",
    "    wd = weatherdata[city].get(date, False)\n",
    "    if not wd:\n",
    "        #not found\n",
    "        return False\n",
    "    \n",
    "    wrow = list()\n",
    "    for feature in weather_features :\n",
    "        wrow.append(wd[feature])\n",
    "    return wrow\n",
    "    "
   ]
  },
  {
   "cell_type": "code",
   "execution_count": 62,
   "id": "6a38aa5b",
   "metadata": {},
   "outputs": [
    {
     "name": "stdout",
     "output_type": "stream",
     "text": [
      "['4/21/2023', 'Friday', 'ORD', 'UA 3839', '10:00 AM', '110']\n",
      "2023-04-21 ORD\n",
      "['4/21/2023', 'Friday', 'ORD', 'UA 3524', '4:50 PM', '115']\n",
      "2023-04-21 ORD\n",
      "['4/21/2023', 'Friday', 'ORD', 'UA 538', '9:34 PM', '114']\n",
      "2023-04-21 ORD\n",
      "['4/22/2023', 'Saturday', 'ORD', 'UA 3839', '10:00 AM', '110']\n",
      "2023-04-22 ORD\n",
      "['4/22/2023', 'Saturday', 'ORD', 'UA 3524', '4:50 PM', '115']\n",
      "2023-04-22 ORD\n",
      "['4/22/2023', 'Saturday', 'ORD', 'UA 538', '9:34 PM', '114']\n",
      "2023-04-22 ORD\n",
      "['4/23/2023', 'Sunday', 'ORD', 'UA 3839', '10:00 AM', '110']\n",
      "2023-04-23 ORD\n",
      "['4/23/2023', 'Sunday', 'ORD', 'UA 3524', '4:55 PM', '115']\n",
      "2023-04-23 ORD\n",
      "['4/23/2023', 'Sunday', 'ORD', 'UA 538', '9:34 PM', '114']\n",
      "2023-04-23 ORD\n",
      "['4/24/2023', 'Monday', 'ORD', 'UA 3839', '10:00 AM', '110']\n",
      "2023-04-24 ORD\n",
      "['4/24/2023', 'Monday', 'ORD', 'UA 3524', '4:50 PM', '115']\n",
      "2023-04-24 ORD\n",
      "['4/24/2023', 'Monday', 'ORD', 'UA 538', '9:34 PM', '114']\n",
      "2023-04-24 ORD\n",
      "['4/21/2023', 'Friday', 'DEN', 'UA 604', '3:12 PM', '201']\n",
      "2023-04-21 DEN\n",
      "['4/22/2023', 'Saturday', 'DEN', 'UA 604', '3:12 PM', '201']\n",
      "2023-04-22 DEN\n",
      "['4/23/2023', 'Sunday', 'DEN', 'UA 604', '3:12 PM', '201']\n",
      "2023-04-23 DEN\n",
      "['4/24/2023', 'Monday', 'DEN', 'UA 604', '3:12 PM', '201']\n",
      "2023-04-24 DEN\n",
      "['4/21/2023', 'Friday', 'EWR', 'UA 4189', '10:46 AM', '91']\n",
      "2023-04-21 EWR\n",
      "['4/21/2023', 'Friday', 'EWR', 'UA 1412', '11:42 PM', '72']\n",
      "2023-04-21 EWR\n",
      "['4/22/2023', 'Saturday', 'EWR', 'UA 4189', '10:46 AM', '91']\n",
      "2023-04-22 EWR\n",
      "['4/22/2023', 'Saturday', 'EWR', 'UA 1412', '11:17 PM', '72']\n",
      "2023-04-22 EWR\n",
      "['4/23/2023', 'Sunday', 'EWR', 'UA 4189', '10:46 AM', '91']\n",
      "2023-04-23 EWR\n",
      "['4/23/2023', 'Sunday', 'EWR', 'UA 1412', '11:42 PM', '72']\n",
      "2023-04-23 EWR\n",
      "['4/24/2023', 'Monday', 'EWR', 'UA 4189', '10:46 AM', '91']\n",
      "2023-04-24 EWR\n",
      "['4/24/2023', 'Monday', 'EWR', 'UA 1412', '11:42 PM', '72']\n",
      "2023-04-24 EWR\n",
      "['4/21/2023', 'Friday', 'IAD', 'UA 4490', '1:57 PM', '74']\n",
      "2023-04-21 IAD\n",
      "['4/21/2023', 'Friday', 'IAD', 'UA 4165', '6:59 PM', '83']\n",
      "2023-04-21 IAD\n",
      "['4/22/2023', 'Saturday', 'IAD', 'UA 3805', '1:58 PM', '75']\n",
      "2023-04-22 IAD\n",
      "['4/22/2023', 'Saturday', 'IAD', 'UA 4165', '6:59 PM', '83']\n",
      "2023-04-22 IAD\n",
      "['4/23/2023', 'Sunday', 'IAD', 'UA 4490', '1:57 PM', '74']\n",
      "2023-04-23 IAD\n",
      "['4/23/2023', 'Sunday', 'IAD', 'UA 4165', '6:59 PM', '83']\n",
      "2023-04-23 IAD\n",
      "['4/24/2023', 'Monday', 'IAD', 'UA 4490', '1:57 PM', '74']\n",
      "2023-04-24 IAD\n",
      "['4/24/2023', 'Monday', 'IAD', 'UA 4165', '6:59 PM', '83']\n",
      "2023-04-24 IAD\n",
      "32\n"
     ]
    }
   ],
   "source": [
    "\n",
    "dest_city =  \"SYR\"\n",
    "for row in csvreader :\n",
    "    print(row)\n",
    "    if len(row[0]) == 8 :\n",
    "        date = datetime.datetime.strptime(row[0], \"%m/%d/%y\").strftime(\"%Y-%m-%d\")\n",
    "        month = datetime.datetime.strptime(row[0], \"%m/%d/%y\").strftime(\"%B\")\n",
    "    else :\n",
    "        date = datetime.datetime.strptime(row[0], \"%m/%d/%Y\").strftime(\"%Y-%m-%d\")\n",
    "        month = datetime.datetime.strptime(row[0], \"%m/%d/%Y\").strftime(\"%B\")\n",
    "    \n",
    "    row[0] = date\n",
    "    org_city = row[2] \n",
    "    print(date,org_city)\n",
    "    org_wrow = get_weather(org_city,date)\n",
    "    dest_wrow = get_weather(dest_city,date)\n",
    "    \n",
    "    if (not org_wrow) or (not dest_wrow):\n",
    "        continue\n",
    "    \n",
    "    new_row = list(row)\n",
    "    new_row.append(month)\n",
    "    new_row.extend(org_wrow)\n",
    "    new_row.extend(dest_wrow)\n",
    "    \n",
    "    final_rows.append(new_row)\n",
    "    \n",
    "with open(\"predict_Arrivals2.csv\", 'w', newline='') as file:\n",
    "    csvwriter =  csv.writer(file, delimiter=',')\n",
    "    \n",
    "    csvwriter.writerow(final_header)\n",
    "    csvwriter.writerows(final_rows)\n",
    "    \n",
    "\n",
    "print(len(final_rows))\n",
    "ffile.close()\n",
    "\n",
    "\n",
    "    \n",
    "    "
   ]
  },
  {
   "cell_type": "code",
   "execution_count": null,
   "id": "14142dcc",
   "metadata": {},
   "outputs": [],
   "source": []
  }
 ],
 "metadata": {
  "kernelspec": {
   "display_name": "Python 3 (ipykernel)",
   "language": "python",
   "name": "python3"
  },
  "language_info": {
   "codemirror_mode": {
    "name": "ipython",
    "version": 3
   },
   "file_extension": ".py",
   "mimetype": "text/x-python",
   "name": "python",
   "nbconvert_exporter": "python",
   "pygments_lexer": "ipython3",
   "version": "3.9.6"
  }
 },
 "nbformat": 4,
 "nbformat_minor": 5
}
