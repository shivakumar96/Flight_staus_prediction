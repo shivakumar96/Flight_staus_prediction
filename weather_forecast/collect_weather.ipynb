{
 "cells": [
  {
   "cell_type": "code",
   "execution_count": 4,
   "id": "24b2e11d",
   "metadata": {},
   "outputs": [],
   "source": [
    "import requests\n",
    "import datetime\n",
    "import json\n",
    "import time\n",
    "\n",
    "#forecastdata\n",
    "base_url=\"https://api.weatherbit.io/v2.0/forecast/daily?\""
   ]
  },
  {
   "cell_type": "code",
   "execution_count": 5,
   "id": "0df79350",
   "metadata": {},
   "outputs": [],
   "source": [
    "def get_daily_weather(city=None,start_date=None,end_date=\"None\"):\n",
    "    api_key = \"2c99ac50f56547c4ac3a60a8795025ae\"\n",
    "    #api_key = \"8586bdd2047f4592ac0c474c256a39a2\"\n",
    "    #api_key =\"099b5b30fe744448b68ff457bcf350f2\"\n",
    "    #api_key = \"073df333c0014e73b1adfb00eeb3d936\"\n",
    "    #api_key = \"f2abf69e31cf4d448ed9787cd90b803a\"\n",
    "    \n",
    "    #api_key = \"2e7da3ead7214859ba8c0070493dab65\"\n",
    "    \n",
    "    chicago_city =\"city=Chicago,IL\"\n",
    "    denver_city =\"city=Denver,CO\"\n",
    "    Newark_city=\"city=Newark,NJ\"\n",
    "    Washington_city=\"city=Washington,DC\"\n",
    "    syracuse_city=\"city=Syracuse,NY\"\n",
    "    \n",
    "    if(city == None or start_date == None or end_date == None):\n",
    "        return None\n",
    "    \n",
    "    \n",
    "    city_part=\"\"\n",
    "    city = city.lower()\n",
    "    if city in chicago_city.lower():\n",
    "        city_part = chicago_city\n",
    "    elif city in denver_city.lower():\n",
    "        city_part = denver_city\n",
    "    elif city in Newark_city.lower():\n",
    "        city_part = Newark_city\n",
    "    elif city in Washington_city.lower():\n",
    "        city_part = Washington_city\n",
    "    elif city in syracuse_city.lower():\n",
    "        city_part= syracuse_city\n",
    "    \n",
    "    url_start_date = \"&start_date=\" + start_date.strftime('%Y-%m-%d')\n",
    "    url_end_date = \"&end_date=\" + end_date.strftime('%Y-%m-%d')\n",
    "    tail = \"&tz=local&key=\" + api_key\n",
    "    arg_url=city_part+ url_start_date+url_end_date + tail \n",
    "    \n",
    "    full_url = base_url + arg_url\n",
    "    print(full_url)\n",
    "    resp = requests.get(full_url)\n",
    "    return resp.json()\n",
    "    \n",
    "    "
   ]
  },
  {
   "cell_type": "code",
   "execution_count": 6,
   "id": "0a8f3326",
   "metadata": {},
   "outputs": [
    {
     "name": "stdout",
     "output_type": "stream",
     "text": [
      "https://api.weatherbit.io/v2.0/forecast/daily?city=Syracuse,NY&start_date=2023-04-20&end_date=2023-04-25&tz=local&key=2c99ac50f56547c4ac3a60a8795025ae\n",
      "https://api.weatherbit.io/v2.0/forecast/daily?city=Chicago,IL&start_date=2023-04-20&end_date=2023-04-25&tz=local&key=2c99ac50f56547c4ac3a60a8795025ae\n",
      "https://api.weatherbit.io/v2.0/forecast/daily?city=Denver,CO&start_date=2023-04-20&end_date=2023-04-25&tz=local&key=2c99ac50f56547c4ac3a60a8795025ae\n",
      "https://api.weatherbit.io/v2.0/forecast/daily?city=Newark,NJ&start_date=2023-04-20&end_date=2023-04-25&tz=local&key=2c99ac50f56547c4ac3a60a8795025ae\n",
      "https://api.weatherbit.io/v2.0/forecast/daily?city=Washington,DC&start_date=2023-04-20&end_date=2023-04-25&tz=local&key=2c99ac50f56547c4ac3a60a8795025ae\n"
     ]
    }
   ],
   "source": [
    "cities = ['syracuse', 'chicago', 'denver', 'newark', 'washington']\n",
    "\n",
    "\n",
    "date1 = datetime.date(2021, 1, 1)\n",
    "date2 = datetime.date(2021, 12, 31)\n",
    "it1 = [date1,date2]\n",
    "\n",
    "date1 = datetime.date(2022, 1, 1)\n",
    "date2 = datetime.date(2022, 12, 31)\n",
    "it2 = [date1,date2]\n",
    "\n",
    "date1 = datetime.date(2023, 1, 1)\n",
    "date2 = datetime.date(2023, 3, 30)\n",
    "it3 = [date1,date2]\n",
    "\n",
    "\n",
    "date1 = datetime.date(2023, 4, 20)\n",
    "date2 = datetime.date(2023, 4, 25)\n",
    "it0 = [date1,date2]\n",
    "\n",
    "dates=[it0,it1,it2,it3]\n",
    "\n",
    "#cities = [ 'syracuse' ]\n",
    "\n",
    "for city in cities :\n",
    "    for i in range(0,1):\n",
    "        data = get_daily_weather(city,dates[i][0],dates[i][1])\n",
    "        \n",
    "        with open(city+\"-\"+str(i)+\".json\",\"a\") as f:\n",
    "            f.write(json.dumps(data,indent=2))\n",
    "            f.close()\n",
    "        time.sleep(120)\n",
    "    "
   ]
  },
  {
   "cell_type": "code",
   "execution_count": null,
   "id": "a1672590",
   "metadata": {},
   "outputs": [],
   "source": []
  },
  {
   "cell_type": "code",
   "execution_count": null,
   "id": "498725aa",
   "metadata": {},
   "outputs": [],
   "source": []
  },
  {
   "cell_type": "code",
   "execution_count": null,
   "id": "573cce3d",
   "metadata": {},
   "outputs": [],
   "source": []
  }
 ],
 "metadata": {
  "kernelspec": {
   "display_name": "Python 3 (ipykernel)",
   "language": "python",
   "name": "python3"
  },
  "language_info": {
   "codemirror_mode": {
    "name": "ipython",
    "version": 3
   },
   "file_extension": ".py",
   "mimetype": "text/x-python",
   "name": "python",
   "nbconvert_exporter": "python",
   "pygments_lexer": "ipython3",
   "version": "3.9.6"
  }
 },
 "nbformat": 4,
 "nbformat_minor": 5
}
