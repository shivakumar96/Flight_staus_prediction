{
 "cells": [
  {
   "cell_type": "code",
   "execution_count": 38,
   "id": "be698486",
   "metadata": {},
   "outputs": [],
   "source": [
    "import csv \n",
    "import json\n",
    "import datetime"
   ]
  },
  {
   "cell_type": "code",
   "execution_count": 39,
   "id": "e6800eda",
   "metadata": {},
   "outputs": [],
   "source": [
    "flightfile  = \"predict_Arrivals2.csv\"\n",
    "weatherfile = \"weatherdata.json\"\n",
    "\n",
    "wfile = open(\"weatherdata.json\", \"r\")\n",
    "weatherdata = json.loads(wfile.read())\n",
    "wfile.close()\n"
   ]
  },
  {
   "cell_type": "code",
   "execution_count": 40,
   "id": "9bc78d1e",
   "metadata": {},
   "outputs": [
    {
     "name": "stdout",
     "output_type": "stream",
     "text": [
      "['Date', 'Day', 'Origin Airport', 'Flight Number', 'Arrival Time', 'Scheduled Elapsed Time (Minutes)']\n"
     ]
    }
   ],
   "source": [
    "ffile = open(\"project_csv_Apr_21_24_.csv\",\"r\")\n",
    "csvreader = csv.reader(ffile)\n",
    "header = next(csvreader)\n",
    "print(header)"
   ]
  },
  {
   "cell_type": "code",
   "execution_count": 41,
   "id": "18a5b5e3",
   "metadata": {},
   "outputs": [
    {
     "name": "stdout",
     "output_type": "stream",
     "text": [
      "['Date', 'Day', 'Origin Airport', 'Flight Number', 'Arrival Time', 'Scheduled Elapsed Time (Minutes)', 'month', 'org_clouds', 'org_pres', 'org_snow', 'org_temp', 'org_wind_spd', 'dest_clouds', 'dest_pres', 'dest_snow', 'dest_temp', 'dest_wind_spd']\n"
     ]
    }
   ],
   "source": [
    "wheader = [ 'clouds', 'pres', 'snow', 'temp', 'wind_spd']\n",
    "org_wheader = [ \"org_\" + x for x in  wheader]\n",
    "dest_wheader  = [ \"dest_\" + x for x in  wheader]\n",
    "\n",
    "final_header = list(header)\n",
    "final_header.append(\"month\")\n",
    "final_header.extend(org_wheader)\n",
    "final_header.extend(dest_wheader)\n",
    "\n",
    "final_rows = list()\n",
    "\n",
    "print(final_header)\n"
   ]
  },
  {
   "cell_type": "code",
   "execution_count": 42,
   "id": "39eaa2c4",
   "metadata": {},
   "outputs": [],
   "source": [
    "weather_features = [ 'clouds', 'pres', 'snow', 'temp', 'wind_spd']\n",
    "def get_weather(city,date):\n",
    "    wd = weatherdata[city].get(date, False)\n",
    "    if not wd:\n",
    "        #not found\n",
    "        return False\n",
    "    \n",
    "    wrow = list()\n",
    "    for feature in weather_features :\n",
    "        wrow.append(wd[feature])\n",
    "    return wrow\n",
    "    "
   ]
  },
  {
   "cell_type": "code",
   "execution_count": 43,
   "id": "6a38aa5b",
   "metadata": {},
   "outputs": [
    {
     "name": "stdout",
     "output_type": "stream",
     "text": [
      "['4/21/2023', 'Friday', 'ORD', 'UA 3839', '10:00 AM', '110']\n",
      "['4/21/2023', 'Friday', 'ORD', 'UA 3524', '4:50 PM', '115']\n",
      "['4/21/2023', 'Friday', 'ORD', 'UA 538', '9:34 PM', '114']\n",
      "['4/22/2023', 'Saturday', 'ORD', 'UA 3839', '10:00 AM', '110']\n"
     ]
    },
    {
     "ename": "ValueError",
     "evalue": "unconverted data remains: 23",
     "output_type": "error",
     "traceback": [
      "\u001b[0;31m---------------------------------------------------------------------------\u001b[0m",
      "\u001b[0;31mValueError\u001b[0m                                Traceback (most recent call last)",
      "Cell \u001b[0;32mIn[43], line 5\u001b[0m\n\u001b[1;32m      3\u001b[0m \u001b[38;5;28mprint\u001b[39m(row)\n\u001b[1;32m      4\u001b[0m \u001b[38;5;28;01mif\u001b[39;00m \u001b[38;5;28mlen\u001b[39m(row[\u001b[38;5;241m1\u001b[39m]) \u001b[38;5;241m==\u001b[39m \u001b[38;5;241m8\u001b[39m :\n\u001b[0;32m----> 5\u001b[0m     date \u001b[38;5;241m=\u001b[39m \u001b[43mdatetime\u001b[49m\u001b[38;5;241;43m.\u001b[39;49m\u001b[43mdatetime\u001b[49m\u001b[38;5;241;43m.\u001b[39;49m\u001b[43mstrptime\u001b[49m\u001b[43m(\u001b[49m\u001b[43mrow\u001b[49m\u001b[43m[\u001b[49m\u001b[38;5;241;43m0\u001b[39;49m\u001b[43m]\u001b[49m\u001b[43m,\u001b[49m\u001b[43m \u001b[49m\u001b[38;5;124;43m\"\u001b[39;49m\u001b[38;5;124;43m%\u001b[39;49m\u001b[38;5;124;43mm/\u001b[39;49m\u001b[38;5;132;43;01m%d\u001b[39;49;00m\u001b[38;5;124;43m/\u001b[39;49m\u001b[38;5;124;43m%\u001b[39;49m\u001b[38;5;124;43my\u001b[39;49m\u001b[38;5;124;43m\"\u001b[39;49m\u001b[43m)\u001b[49m\u001b[38;5;241m.\u001b[39mstrftime(\u001b[38;5;124m\"\u001b[39m\u001b[38;5;124m%\u001b[39m\u001b[38;5;124mY-\u001b[39m\u001b[38;5;124m%\u001b[39m\u001b[38;5;124mm-\u001b[39m\u001b[38;5;132;01m%d\u001b[39;00m\u001b[38;5;124m\"\u001b[39m)\n\u001b[1;32m      6\u001b[0m     month \u001b[38;5;241m=\u001b[39m datetime\u001b[38;5;241m.\u001b[39mdatetime\u001b[38;5;241m.\u001b[39mstrptime(row[\u001b[38;5;241m0\u001b[39m], \u001b[38;5;124m\"\u001b[39m\u001b[38;5;124m%\u001b[39m\u001b[38;5;124mm/\u001b[39m\u001b[38;5;132;01m%d\u001b[39;00m\u001b[38;5;124m/\u001b[39m\u001b[38;5;124m%\u001b[39m\u001b[38;5;124my\u001b[39m\u001b[38;5;124m\"\u001b[39m)\u001b[38;5;241m.\u001b[39mstrftime(\u001b[38;5;124m\"\u001b[39m\u001b[38;5;124m%\u001b[39m\u001b[38;5;124mB\u001b[39m\u001b[38;5;124m\"\u001b[39m)\n\u001b[1;32m      7\u001b[0m \u001b[38;5;28;01melse\u001b[39;00m :\n",
      "File \u001b[0;32m/Library/Developer/CommandLineTools/Library/Frameworks/Python3.framework/Versions/3.9/lib/python3.9/_strptime.py:568\u001b[0m, in \u001b[0;36m_strptime_datetime\u001b[0;34m(cls, data_string, format)\u001b[0m\n\u001b[1;32m    565\u001b[0m \u001b[38;5;28;01mdef\u001b[39;00m \u001b[38;5;21m_strptime_datetime\u001b[39m(\u001b[38;5;28mcls\u001b[39m, data_string, \u001b[38;5;28mformat\u001b[39m\u001b[38;5;241m=\u001b[39m\u001b[38;5;124m\"\u001b[39m\u001b[38;5;132;01m%a\u001b[39;00m\u001b[38;5;124m \u001b[39m\u001b[38;5;124m%\u001b[39m\u001b[38;5;124mb \u001b[39m\u001b[38;5;132;01m%d\u001b[39;00m\u001b[38;5;124m \u001b[39m\u001b[38;5;124m%\u001b[39m\u001b[38;5;124mH:\u001b[39m\u001b[38;5;124m%\u001b[39m\u001b[38;5;124mM:\u001b[39m\u001b[38;5;124m%\u001b[39m\u001b[38;5;124mS \u001b[39m\u001b[38;5;124m%\u001b[39m\u001b[38;5;124mY\u001b[39m\u001b[38;5;124m\"\u001b[39m):\n\u001b[1;32m    566\u001b[0m \u001b[38;5;250m    \u001b[39m\u001b[38;5;124;03m\"\"\"Return a class cls instance based on the input string and the\u001b[39;00m\n\u001b[1;32m    567\u001b[0m \u001b[38;5;124;03m    format string.\"\"\"\u001b[39;00m\n\u001b[0;32m--> 568\u001b[0m     tt, fraction, gmtoff_fraction \u001b[38;5;241m=\u001b[39m \u001b[43m_strptime\u001b[49m\u001b[43m(\u001b[49m\u001b[43mdata_string\u001b[49m\u001b[43m,\u001b[49m\u001b[43m \u001b[49m\u001b[38;5;28;43mformat\u001b[39;49m\u001b[43m)\u001b[49m\n\u001b[1;32m    569\u001b[0m     tzname, gmtoff \u001b[38;5;241m=\u001b[39m tt[\u001b[38;5;241m-\u001b[39m\u001b[38;5;241m2\u001b[39m:]\n\u001b[1;32m    570\u001b[0m     args \u001b[38;5;241m=\u001b[39m tt[:\u001b[38;5;241m6\u001b[39m] \u001b[38;5;241m+\u001b[39m (fraction,)\n",
      "File \u001b[0;32m/Library/Developer/CommandLineTools/Library/Frameworks/Python3.framework/Versions/3.9/lib/python3.9/_strptime.py:352\u001b[0m, in \u001b[0;36m_strptime\u001b[0;34m(data_string, format)\u001b[0m\n\u001b[1;32m    349\u001b[0m     \u001b[38;5;28;01mraise\u001b[39;00m \u001b[38;5;167;01mValueError\u001b[39;00m(\u001b[38;5;124m\"\u001b[39m\u001b[38;5;124mtime data \u001b[39m\u001b[38;5;132;01m%r\u001b[39;00m\u001b[38;5;124m does not match format \u001b[39m\u001b[38;5;132;01m%r\u001b[39;00m\u001b[38;5;124m\"\u001b[39m \u001b[38;5;241m%\u001b[39m\n\u001b[1;32m    350\u001b[0m                      (data_string, \u001b[38;5;28mformat\u001b[39m))\n\u001b[1;32m    351\u001b[0m \u001b[38;5;28;01mif\u001b[39;00m \u001b[38;5;28mlen\u001b[39m(data_string) \u001b[38;5;241m!=\u001b[39m found\u001b[38;5;241m.\u001b[39mend():\n\u001b[0;32m--> 352\u001b[0m     \u001b[38;5;28;01mraise\u001b[39;00m \u001b[38;5;167;01mValueError\u001b[39;00m(\u001b[38;5;124m\"\u001b[39m\u001b[38;5;124munconverted data remains: \u001b[39m\u001b[38;5;132;01m%s\u001b[39;00m\u001b[38;5;124m\"\u001b[39m \u001b[38;5;241m%\u001b[39m\n\u001b[1;32m    353\u001b[0m                       data_string[found\u001b[38;5;241m.\u001b[39mend():])\n\u001b[1;32m    355\u001b[0m iso_year \u001b[38;5;241m=\u001b[39m year \u001b[38;5;241m=\u001b[39m \u001b[38;5;28;01mNone\u001b[39;00m\n\u001b[1;32m    356\u001b[0m month \u001b[38;5;241m=\u001b[39m day \u001b[38;5;241m=\u001b[39m \u001b[38;5;241m1\u001b[39m\n",
      "\u001b[0;31mValueError\u001b[0m: unconverted data remains: 23"
     ]
    }
   ],
   "source": [
    "\n",
    "dest_city =  \"SYR\"\n",
    "for row in csvreader :\n",
    "    print(row)\n",
    "    if len(row[1]) == 8 :\n",
    "        date = datetime.datetime.strptime(row[0], \"%m/%d/%y\").strftime(\"%Y-%m-%d\")\n",
    "        month = datetime.datetime.strptime(row[0], \"%m/%d/%y\").strftime(\"%B\")\n",
    "    else :\n",
    "        date = datetime.datetime.strptime(row[0], \"%m/%d/%Y\").strftime(\"%Y-%m-%d\")\n",
    "        month = datetime.datetime.strptime(row[0], \"%m/%d/%Y\").strftime(\"%B\")\n",
    "    \n",
    "    row[0] = date\n",
    "    org_city = row[2] \n",
    "    #print(date,org_city)\n",
    "    org_wrow = get_weather(org_city,date)\n",
    "    dest_wrow = get_weather(dest_city,date)\n",
    "    \n",
    "    if (not org_wrow) or (not dest_wrow):\n",
    "        continue\n",
    "    \n",
    "    new_row = list(row)\n",
    "    new_row.append(month)\n",
    "    new_row.extend(org_wrow)\n",
    "    new_row.extend(dest_wrow)\n",
    "    \n",
    "    final_rows.append(new_row)\n",
    "    \n",
    "with open(\"predict_Arrivals2.csv\", 'w', newline='') as file:\n",
    "    csvwriter =  csv.writer(file, delimiter=',')\n",
    "    \n",
    "    csvwriter.writerow(final_header)\n",
    "    csvwriter.writerows(final_rows)\n",
    "    \n",
    "\n",
    "print(len(final_rows))\n",
    "ffile.close()\n",
    "\n",
    "\n",
    "    \n",
    "    "
   ]
  },
  {
   "cell_type": "code",
   "execution_count": null,
   "id": "14142dcc",
   "metadata": {},
   "outputs": [],
   "source": []
  }
 ],
 "metadata": {
  "kernelspec": {
   "display_name": "Python 3 (ipykernel)",
   "language": "python",
   "name": "python3"
  },
  "language_info": {
   "codemirror_mode": {
    "name": "ipython",
    "version": 3
   },
   "file_extension": ".py",
   "mimetype": "text/x-python",
   "name": "python",
   "nbconvert_exporter": "python",
   "pygments_lexer": "ipython3",
   "version": "3.9.6"
  }
 },
 "nbformat": 4,
 "nbformat_minor": 5
}
