{
 "cells": [
  {
   "cell_type": "code",
   "execution_count": 1,
   "id": "07126530",
   "metadata": {},
   "outputs": [],
   "source": [
    "import csv \n",
    "import json\n",
    "\n"
   ]
  },
  {
   "cell_type": "code",
   "execution_count": 2,
   "id": "8f251ebf",
   "metadata": {},
   "outputs": [],
   "source": [
    "features = ['datetime', 'clouds', 'pres', 'snow', 'temp', 'solar_rad', 'wind_spd']\n",
    "nodate_features = [ 'clouds', 'pres', 'snow', 'temp', 'wind_spd']\n",
    "city_aiports = {'syracuse': 'SYR', 'chicago': 'ORD', 'denver': 'DEN', 'newark':'EWR', 'washington': 'IAD'}\n",
    "\n",
    "aiports_city = { 'SYR':'syracuse',  'ORD': 'chicago',  'DEN': 'denver', 'EWR':'newark','IAD': 'washington'}\n",
    "\n",
    "\n",
    "def read_files(filename, rows={}):\n",
    "    readfile = open(filename,\"r\")\n",
    "    data = json.loads(readfile.read())\n",
    "    data = data[\"data\"]\n",
    "    for datapoint in data :\n",
    "        row = dict()\n",
    "        for feature in nodate_features :\n",
    "            row[feature] = datapoint[feature]\n",
    "        if len(row) > 0:\n",
    "            rows[datapoint['datetime']] = row\n",
    "    readfile.close()\n",
    "    print(len(rows))\n",
    "    return rows"
   ]
  },
  {
   "cell_type": "code",
   "execution_count": 3,
   "id": "35951389",
   "metadata": {},
   "outputs": [],
   "source": [
    "#readfile = open(\"chicago-1.json\",\"r\")\n",
    "#data = json.loads(readfile.read())\n",
    "#data = data[\"data\"]"
   ]
  },
  {
   "cell_type": "code",
   "execution_count": 4,
   "id": "11d188cb",
   "metadata": {},
   "outputs": [],
   "source": [
    "#print(data[0].keys())\n"
   ]
  },
  {
   "cell_type": "code",
   "execution_count": 5,
   "id": "e6613530",
   "metadata": {},
   "outputs": [
    {
     "data": {
      "text/plain": [
       "' \\nfor datapoint in data :\\n    row = list()\\n    for feature in features :\\n        row.append(datapoint[feature])\\n    if len(row) > 0:\\n        rows.append(row)\\n\\nprint(len(rows))\\n'"
      ]
     },
     "execution_count": 5,
     "metadata": {},
     "output_type": "execute_result"
    }
   ],
   "source": [
    "#features = ['datetime', 'clouds', 'pres', 'snow', 'temp', 'solar_rad', 'wind_spd']\n",
    "#rows = []\n",
    "\n",
    "''' \n",
    "for datapoint in data :\n",
    "    row = list()\n",
    "    for feature in features :\n",
    "        row.append(datapoint[feature])\n",
    "    if len(row) > 0:\n",
    "        rows.append(row)\n",
    "\n",
    "print(len(rows))\n",
    "'''\n"
   ]
  },
  {
   "cell_type": "code",
   "execution_count": 6,
   "id": "50b47814",
   "metadata": {},
   "outputs": [
    {
     "ename": "KeyError",
     "evalue": "'solar_rad'",
     "output_type": "error",
     "traceback": [
      "\u001b[0;31m---------------------------------------------------------------------------\u001b[0m",
      "\u001b[0;31mKeyError\u001b[0m                                  Traceback (most recent call last)",
      "Cell \u001b[0;32mIn[6], line 11\u001b[0m\n\u001b[1;32m      9\u001b[0m finaljson \u001b[38;5;241m=\u001b[39m {}\n\u001b[1;32m     10\u001b[0m \u001b[38;5;28;01mfor\u001b[39;00m city \u001b[38;5;129;01min\u001b[39;00m cities :\n\u001b[0;32m---> 11\u001b[0m     citydata \u001b[38;5;241m=\u001b[39m \u001b[43mgetcitydata\u001b[49m\u001b[43m(\u001b[49m\u001b[43mcity\u001b[49m\u001b[43m)\u001b[49m\n\u001b[1;32m     12\u001b[0m     finaljson[city_aiports[city]] \u001b[38;5;241m=\u001b[39m citydata\n\u001b[1;32m     13\u001b[0m     \u001b[38;5;28mprint\u001b[39m(city)\n",
      "Cell \u001b[0;32mIn[6], line 5\u001b[0m, in \u001b[0;36mgetcitydata\u001b[0;34m(city)\u001b[0m\n\u001b[1;32m      3\u001b[0m rows \u001b[38;5;241m=\u001b[39m {}\n\u001b[1;32m      4\u001b[0m \u001b[38;5;28;01mfor\u001b[39;00m file \u001b[38;5;129;01min\u001b[39;00m files :\n\u001b[0;32m----> 5\u001b[0m     rows \u001b[38;5;241m=\u001b[39m \u001b[43mread_files\u001b[49m\u001b[43m(\u001b[49m\u001b[43mfile\u001b[49m\u001b[43m,\u001b[49m\u001b[43mrows\u001b[49m\u001b[43m)\u001b[49m\n\u001b[1;32m      6\u001b[0m \u001b[38;5;28;01mreturn\u001b[39;00m rows\n",
      "Cell \u001b[0;32mIn[2], line 15\u001b[0m, in \u001b[0;36mread_files\u001b[0;34m(filename, rows)\u001b[0m\n\u001b[1;32m     13\u001b[0m row \u001b[38;5;241m=\u001b[39m \u001b[38;5;28mdict\u001b[39m()\n\u001b[1;32m     14\u001b[0m \u001b[38;5;28;01mfor\u001b[39;00m feature \u001b[38;5;129;01min\u001b[39;00m nodate_features :\n\u001b[0;32m---> 15\u001b[0m     row[feature] \u001b[38;5;241m=\u001b[39m \u001b[43mdatapoint\u001b[49m\u001b[43m[\u001b[49m\u001b[43mfeature\u001b[49m\u001b[43m]\u001b[49m\n\u001b[1;32m     16\u001b[0m \u001b[38;5;28;01mif\u001b[39;00m \u001b[38;5;28mlen\u001b[39m(row) \u001b[38;5;241m>\u001b[39m \u001b[38;5;241m0\u001b[39m:\n\u001b[1;32m     17\u001b[0m     rows[datapoint[\u001b[38;5;124m'\u001b[39m\u001b[38;5;124mdatetime\u001b[39m\u001b[38;5;124m'\u001b[39m]] \u001b[38;5;241m=\u001b[39m row\n",
      "\u001b[0;31mKeyError\u001b[0m: 'solar_rad'"
     ]
    }
   ],
   "source": [
    "\n",
    "def getcitydata(city) :\n",
    "    files = [ city + \"-\" + str(x) + \".json\" for x in range(1)]\n",
    "    rows = {}\n",
    "    for file in files :\n",
    "        rows = read_files(file,rows)\n",
    "    return rows        \n",
    "\n",
    "cities = ['syracuse', 'chicago', 'denver', 'newark', 'washington']\n",
    "finaljson = {}\n",
    "for city in cities :\n",
    "    citydata = getcitydata(city)\n",
    "    finaljson[city_aiports[city]] = citydata\n",
    "    print(city)\n",
    "    \n",
    "    \n",
    "\n",
    "dest = \"weatherdata.json\"\n",
    "with open(dest, 'w', newline='') as file:\n",
    "    file.write(json.dumps(finaljson,indent=2))\n",
    "    \n",
    "\n"
   ]
  },
  {
   "cell_type": "code",
   "execution_count": null,
   "id": "d9538b68",
   "metadata": {},
   "outputs": [],
   "source": []
  }
 ],
 "metadata": {
  "kernelspec": {
   "display_name": "Python 3 (ipykernel)",
   "language": "python",
   "name": "python3"
  },
  "language_info": {
   "codemirror_mode": {
    "name": "ipython",
    "version": 3
   },
   "file_extension": ".py",
   "mimetype": "text/x-python",
   "name": "python",
   "nbconvert_exporter": "python",
   "pygments_lexer": "ipython3",
   "version": "3.9.6"
  }
 },
 "nbformat": 4,
 "nbformat_minor": 5
}
